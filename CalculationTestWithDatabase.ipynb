{
 "cells": [
  {
   "cell_type": "code",
   "execution_count": 12,
   "metadata": {},
   "outputs": [
    {
     "name": "stdout",
     "output_type": "stream",
     "text": [
      "[ nan 0.02 0.04 0.07 0.19 0.29 0.35  nan]\n",
      "Nachhallzeit (ohne Luftdämpfung):\n",
      "[       nan 2.68617944 2.68528464 4.023571   2.01053111 1.60758291\n",
      " 1.60662172        nan]\n",
      "Nachhallzeit (mit Luftdämpfung):\n",
      "[       nan 2.66820155 2.63247864 3.786512   1.90844719 1.47396477\n",
      " 1.26323121        nan]\n",
      "Anforderungsbereiche nach DIN 18041:\n",
      "obere Grenznachhallzeiten: [0 0 0 0 0 0 0 0]\n",
      "untere Grenznachhallzeiten: [0 0 0 0 0 0 0 0]\n"
     ]
    },
    {
     "name": "stderr",
     "output_type": "stream",
     "text": [
      "/Users/paula/Documents/TU/Semester04/Python&Akustik/Raumakustik-CAD/reverberation_calc.py:461: UserWarning: According to DIN 18041, there are no requirements for type B1.\n",
      "  warnings.warn(\"According to DIN 18041, there are no requirements for type B1.\")\n"
     ]
    }
   ],
   "source": [
    "from reverberation_calc import room, airDamp, material, surface, reverberationTime, DIN_18041_limits\n",
    "import numpy as np\n",
    "import csv\n",
    "\n",
    "# Definition der berechneten Frequenzen\n",
    "frequencies = (63, 125, 250, 500, 1000, 2000, 4000, 8000)  # Frequencies in Hz\n",
    "\n",
    "# Definition eines Raumes\n",
    "room = room(1000) # Initialisierung eines Raum-Objekts mit einem Volumen von 1000 m³\n",
    "# optional Einstellung weiterer Raumparameter\n",
    "room.set_temperature(20)\n",
    "room.set_rel_humidity(50)\n",
    "room.set_pressure(101.325)\n",
    "room.set_height(5)\n",
    "\n",
    "# Definition von Materialien (sind mehr als gebraucht werden aber hier nur als Beispiel für die Syntax bzw. Datenbankeinbindung)\n",
    "def load_materials_from_csv(filepath):\n",
    "    materials = {}\n",
    "    frequencies = [\"63\", \"125\", \"250\", \"500\", \"1000\", \"2000\", \"4000\", \"8000\"]\n",
    "\n",
    "    with open(filepath, newline='', encoding='utf-8') as csvfile:\n",
    "        reader = csv.DictReader(csvfile)\n",
    "        for row in reader:\n",
    "            name = row.get(\"name\", \"\").strip()\n",
    "            if not name:\n",
    "                continue\n",
    "\n",
    "            coeffs = []\n",
    "            for freq in frequencies:\n",
    "                value = row.get(freq, \"\").strip()\n",
    "                try:\n",
    "                    coeffs.append(float(value) if value else float(\"nan\"))\n",
    "                except ValueError:\n",
    "                    coeffs.append(float(\"nan\"))\n",
    "\n",
    "            materials[name] = material(name, tuple(coeffs))\n",
    "\n",
    "    return materials\n",
    "\n",
    "material_dict = load_materials_from_csv(\"materials.csv\")\n",
    "\n",
    "material2 = material_dict.get(\"Teppich_6mm\")\n",
    "\n",
    "#print(material2.absorption_coefficient)\n",
    "\n",
    "material1 = material(\"Kalkzementputz\", (0,.03,0.03,0.02,0.04,0.05,0.05,0))\n",
    "#material2 = material(\"Teppich\", (0,0.02,0.04,0.07,0.19,0.29,0.35,0))\n",
    "material3 = material(\"Isolierverglasung\", (0,0.28,0.20,0.11,0.06,0.03,0.02,0))\n",
    "material4 = material(\"HFPlatte_3_5\", (0,0.61,0.26,0.19,0.07,0.07,0.03,0))\n",
    "material5 = material(\"HFPlatte_4\", (0,0.63,0.25,0.14,0.08,0.06,0.05,0))\n",
    "material6 = material(\"GlaWo_Mikroperf\", (0,0.75,0.95,0.95,1.00,1.00,1.00,0))\n",
    "material7 = material(\"MetKassette_20\", (0,0.38,0.65,0.59,0.75,0.77,0.61,0))\n",
    "material8 = material(\"GK_Schlitz_8_8_Vlies\", (0,0.11,0.28,0.66,0.38,0.28,0.30,0))\n",
    "\n",
    "# Definition von zwei Beispieloberflächen\n",
    "surface1 = surface(\"Wand1\", 2000, material1)\n",
    "surface2 = surface(\"Boden\", 1, material2)\n",
    "\n",
    "# Berechnung der Nachhallzeit aus dem Raum, den Flächen und den Frequenzen. Mit air_damp_calc wird eingestellt, ob die Luftdämpfung berücksichtigt wird.\n",
    "reverberationTime_f = reverberationTime(room, [surface1,surface2], frequencies, air_damp_calc=False)\n",
    "reverberationTime_t = reverberationTime(room, [surface1,surface2], frequencies, air_damp_calc=True)\n",
    "\n",
    "# Ausgabe der Ergebnisse\n",
    "print(\"Nachhallzeit (ohne Luftdämpfung):\")\n",
    "print(reverberationTime_f.reverberation_time)\n",
    "print(\"Nachhallzeit (mit Luftdämpfung):\")\n",
    "print(reverberationTime_t.reverberation_time)\n",
    "\n",
    "\n",
    "# Berechnung und Ausgabe der Anforderungsbereiche\n",
    "print(\"Anforderungsbereiche nach DIN 18041:\")\n",
    "limits = DIN_18041_limits(room, \"B1\")\n",
    "\n",
    "print(\"obere Grenznachhallzeiten: \" + str(limits.T_upper_limit))\n",
    "print(\"untere Grenznachhallzeiten: \" + str(limits.T_lower_limit))\n"
   ]
  }
 ],
 "metadata": {
  "kernelspec": {
   "display_name": "Python 3.11.5 64-bit ('base': conda)",
   "name": "python3115jvsc74a57bd0affcaff9f6bf79b00989f8b6228f87b482b25a63051a05418927146e846e8e7a"
  },
  "language_info": {
   "codemirror_mode": {
    "name": "ipython",
    "version": 3
   },
   "file_extension": ".py",
   "mimetype": "text/x-python",
   "name": "python",
   "nbconvert_exporter": "python",
   "pygments_lexer": "ipython3",
   "version": "3.11.5"
  }
 },
 "nbformat": 4,
 "nbformat_minor": 5
}