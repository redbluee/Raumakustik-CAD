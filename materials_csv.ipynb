{
 "cells": [
  {
   "cell_type": "code",
   "execution_count": 1,
   "metadata": {},
   "outputs": [],
   "source": [
    "import csv\n",
    "import numpy as np"
   ]
  },
  {
   "cell_type": "code",
   "execution_count": 2,
   "metadata": {},
   "outputs": [],
   "source": [
    "header = [\"name\", \"63\", \"125\", \"250\", \"500\", \"1000\", \"2000\", \"4000\", \"8000\"]\n",
    "\n",
    "materials = [\n",
    "    [\"Mauerziegelwand, unverputzt, Fugen ausgestrichen\",        np.nan, 0.03, 0.03, 0.03, 0.04, 0.05, 0.06, np.nan],\n",
    "    [\"Mauerwerk, Hohllochziegel, Löcher sichtbar, 60 mm vor Massivwand\",          np.nan, 0.11, 0.22, 0.34, 0.35, 0.51, 0.43, np.nan],\n",
    "    [\"Glattputz\",                         np.nan, 0.02, 0.02, 0.03, 0.03, 0.04, 0.06, np.nan],\n",
    "    [\"Kalkzementputz\",                    np.nan, 0.03, 0.03, 0.02, 0.04, 0.05, 0.05, np.nan],\n",
    "    [\"Tapete auf Kalkzementputz\",         np.nan, 0.02, 0.03, 0.04, 0.05, 0.07, 0.08, np.nan],\n",
    "    [\"Spiegel, vor der Wand\",              np.nan, 0.12, 0.10, 0.05, 0.04, 0.02, 0.02, np.nan],\n",
    "    [\"Tür, Holz, lackiert\",                 np.nan, 0.10, 0.08, 0.06, 0.05, 0.05, 0.05, np.nan],\n",
    "    [\"Stuckgips, unverputzter Beton\",      np.nan, 0.02, 0.02, 0.03, 0.04, 0.05, 0.05, np.nan],\n",
    "    [\"Marmor, Fliesen, Klinker\",            np.nan, 0.01, 0.01, 0.02, 0.02, 0.03, 0.03, np.nan],\n",
    "    [\"Fenster (Isolierverglasung)\",         np.nan, 0.28, 0.20, 0.11, 0.06, 0.03, 0.02, np.nan],\n",
    "    [\"Parkettfußboden, aufgeklebt\",                np.nan, 0.04, 0.04, 0.05, 0.06, 0.06, 0.06, np.nan],\n",
    "    [\"Parkettfußboden, auf Blindboden\",                np.nan, 0.20, 0.15, 0.10, 0.09, 0.06, 0.10, np.nan],\n",
    "    [\"Parkettfußboden, hohlliegend\",               np.nan, 0.15, 0.08, 0.07, 0.06, 0.06, 0.06, np.nan],\n",
    "    [\"Teppichboden, bis 6 mm Florhöhe, auf massivem Untergrund\",                       np.nan, 0.02, 0.04, 0.07, 0.19, 0.29, 0.35, np.nan],\n",
    "    [\"Teppichboden, 7 mm bis 10 mm Florhöhe, auf massivem Untergrund\",                    np.nan, 0.04, 0.07, 0.14, 0.30, 0.51, 0.78, np.nan],\n",
    "    [\"Nadelfilz 7 mm, auf massivem Untergrund\",                     np.nan, 0.02, 0.04, 0.12, 0.20, 0.36, 0.57, np.nan],\n",
    "    [\"5 mm Teppich mit 5 mm Filzunterlage, auf massivem Untergrund\",                  np.nan, 0.07, 0.21, 0.57, 0.68, 0.81, 0.72, np.nan],\n",
    "    [\"PVC-Fußbodenbelag (2,5 mm) auf Betonboden\",                     np.nan, 0.01, 0.02, 0.01, 0.03, 0.05, 0.05, np.nan],\n",
    "    [\"Linoleum auf Beton\",                np.nan, 0.02, 0.02, 0.03, 0.03, 0.04, 0.04, np.nan],\n",
    "    [\"Furnierte Holz- oder Spanplatte dicht vor festem Untergrund\",              np.nan, 0.04, 0.04, 0.05, 0.06, 0.06, 0.06, np.nan],\n",
    "    [\"4 mm Hartfaserplatte, kassettiert ohne Dämmstoff, Wandabstand 60 mm\", np.nan, 0.22, 0.19, 0.13, 0.07, 0.05, 0.05, np.nan],\n",
    "    [\"4 mm Hartfaserplatte, kassettiert mit 40 mm Mineralwollplatte, Wandabstand 60 mm\",          np.nan, 0.63, 0.25, 0.14, 0.08, 0.06, 0.05, np.nan],\n",
    "    [\"4 mm Hartfaserplatte, kassettiert ohne Dämmstoff, Wandabstand 120 mm\",        np.nan, 0.26, 0.15, 0.07, 0.05, 0.05, 0.05, np.nan],\n",
    "    [\"4 mm Sperrholzplatte, 40 mm Mineralwolle, Wandabstand 120 mm\",            np.nan, 0.77, 0.33, 0.16, 0.08, 0.07, 0.03, np.nan],\n",
    "    [\"Gipsplatte, 9,5 mm stark, Wandabstand 25 mm\",                   np.nan, 0.27, 0.17, 0.10, 0.09, 0.11, 0.12, np.nan],\n",
    "    [\"Gipsplatte 9,5 mm stark, Wandabstand 60 mm, Hohlraum kassettiert\",          np.nan, 0.30, 0.10, 0.05, 0.07, 0.09, 0.08, np.nan],\n",
    "    [\"Kino-Bildwand\",                     np.nan, 0.10, 0.13, 0.36, 0.31, 0.29, 0.20, np.nan],\n",
    "    [\"Bühnenöffnung mit Dekoration\",              np.nan, 0.40, 0.43, 0.57, 0.70, 0.80, 0.80, np.nan],\n",
    "    [\"Bücherregal in Bibliotheken (je m2 Oberfläche)\",           np.nan, 0.30, 0.39, 0.39, 0.31, 0.29, 0.21, np.nan],\n",
    "    [\"Lochsteine (vorsichtige Annahme)\",                        np.nan, 0.10, 0.20, 0.44, 0.55, 0.44, 0.22, np.nan],\n",
    "    [\"3,5 mm Hartfaserplatte, 40 mm Mineralwolle, 30 mm Holzleisten 750 mm × 500 mm\",       np.nan, 0.61, 0.26, 0.19, 0.07, 0.07, 0.03, np.nan],\n",
    "    [\"15 mm Mineralplatte mit Vlieskaschierung, 200 mm zur Rohdecke\",         np.nan, 0.50, 0.65, 0.70, 0.85, 1.00, 1.00, np.nan],\n",
    "    [\"15 mm Mineralplatte fein genadelt, 200 mm zur Rohdecke\",       np.nan, 0.35, 0.55, 0.65, 0.70, 0.65, 0.60, np.nan],\n",
    "    [\"15 mm Mineralplatte ungenadelt, 200 mm zur Rohdecke\",          np.nan, 0.15, 0.15, 0.10, 0.15, 0.15, 0.10, np.nan],\n",
    "    [\"Gelochte Metallkassette, 16% Lochflächenanteil, 2,5 mm Lochdurchmesser, Akustikvlies\",        np.nan, 0.35, 0.70, 0.85, 0.75, 0.75, 0.75, np.nan],\n",
    "    [\"20 mm Recycle-Glaswollplatte mit mikroporöser Farbbeschichtung\",     np.nan, 0.75, 0.95, 0.95, 1.00, 1.00, 1.00, np.nan],\n",
    "    [\"15 mm Recycle-Glaswollplatte, Vliesbeschichtung\",     np.nan, 0.40, 0.85, 1.00, 0.90, 1.00, 1.00, np.nan],\n",
    "    [\"Spanndecke mikroperforiert, ohne Akustikvlies\",             np.nan, 0.09, 0.25, 0.65, 0.80, 0.61, 0.60, np.nan],\n",
    "    [\"Spanndecke mikroperforiert, mit 40 mm Akustikvlies\",              np.nan, 0.28, 0.69, 1.00, 0.89, 0.75, 0.71, np.nan],\n",
    "    [\"Gipsplatten Rasterdecke 8/18 Rundlochung, ohne Mineralwollauflage\",          np.nan, 0.45, 0.60, 0.70, 0.60, 0.55, 0.65, np.nan],\n",
    "    [\"Gipsplatten Rasterdecke 8/18 Rundlochung, mit 20 mm Mineralwollauflage\",           np.nan, 0.50, 0.65, 0.70, 0.65, 0.60, 0.70, np.nan],\n",
    "    [\"Gipsplatten Rasterdecke 12/25 Quadratlochung, 200 mm Abstand\",           np.nan, 0.45, 0.50, 0.50, 0.40, 0.35, 0.35, np.nan],\n",
    "    [\"Gipsplatten Rasterdecke 12/25 Quadratlochung, 65 mm Abstand\",            np.nan, 0.40, 0.45, 0.50, 0.45, 0.40, 0.30, np.nan],\n",
    "    [\"Holzwolle-Leichtbauplatten 35 mm, direkt auf Wand\",                          np.nan, 0.08, 0.17, 0.70, 0.71, 0.64, 0.64, np.nan],\n",
    "    [\"Holzwolle-Leichtbauplatten 25 mm, Hohlraum leer, Wandabstand 50 mm\",                 np.nan, 0.13, 0.42, 0.54, 0.45, 0.70, 0.73, np.nan],\n",
    "    [\"Melaminharz-Schaumstoff, 30 mm dick\",                      np.nan, 0.12, 0.31, 0.66, 0.86, 0.87, 0.92, np.nan],\n",
    "    [\"Melaminharz-Schaumstoff, 50 mm dick\",                      np.nan, 0.16, 0.56, 0.87, 0.96, 0.97, 0.97, np.nan],\n",
    "    [\"40 mm Mineralwollmatte (20 kg/m³), ohne Lochblech\",            np.nan, 0.11, 0.36, 0.68, 0.88, 0.89, 0.97, np.nan],\n",
    "    [\"40 mm Mineralwollmatte (20 kg/m³), mit 18% Lochblech\",             np.nan, 0.11, 0.36, 0.69, 0.95, 0.81, 0.70, np.nan],\n",
    "    [\"Gipsplatte 9,5 mm, 8/18 Rundlochung, mit Faservlies, 100 mm Abstand\",                  np.nan, 0.12, 0.28, 0.75, 0.50, 0.38, 0.30, np.nan],\n",
    "    [\"Gipsplatte, geschlitzt, mit Faservlies, 100 mm Abstand\",                   np.nan, 0.11, 0.28, 0.66, 0.38, 0.28, 0.30, np.nan],\n",
    "    [\"Langfeld-Metallkassette, 20% Lochung, Akustikfilz, 300 mm Abstand\",    np.nan, 0.38, 0.65, 0.59, 0.75, 0.77, 0.61, np.nan],\n",
    "]\n",
    "\n",
    "with open(\"materials.csv\", mode=\"w\", newline='', encoding=\"utf-8\") as file:\n",
    "    writer = csv.writer(file)\n",
    "    writer.writerow(header)\n",
    "    writer.writerows(materials)\n"
   ]
  }
 ],
 "metadata": {
  "kernelspec": {
   "display_name": ".venv",
   "language": "python",
   "name": "python3"
  },
  "language_info": {
   "codemirror_mode": {
    "name": "ipython",
    "version": 3
   },
   "file_extension": ".py",
   "mimetype": "text/x-python",
   "name": "python",
   "nbconvert_exporter": "python",
   "pygments_lexer": "ipython3",
   "version": "3.11.5"
  },
  "orig_nbformat": 2
 },
 "nbformat": 4,
 "nbformat_minor": 2
}
