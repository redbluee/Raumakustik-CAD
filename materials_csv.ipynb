{
 "cells": [
  {
   "cell_type": "code",
   "execution_count": 2,
   "metadata": {},
   "outputs": [],
   "source": [
    "import csv\n",
    "import numpy as np"
   ]
  },
  {
   "cell_type": "code",
   "execution_count": 3,
   "metadata": {},
   "outputs": [],
   "source": [
    "header = [\"name\", \"63\", \"125\", \"250\", \"500\", \"1000\", \"2000\", \"4000\", \"8000\"]\n",
    "\n",
    "materials = [\n",
    "    [\"Mauerziegelwand_unverputzt\",        np.nan, 0.03, 0.03, 0.03, 0.04, 0.05, 0.06, np.nan],\n",
    "    [\"Mauerwerk_Hohllochziegel\",          np.nan, 0.11, 0.22, 0.34, 0.35, 0.51, 0.43, np.nan],\n",
    "    [\"Glattputz\",                         np.nan, 0.02, 0.02, 0.03, 0.03, 0.04, 0.06, np.nan],\n",
    "    [\"Kalkzementputz\",                    np.nan, 0.03, 0.03, 0.02, 0.04, 0.05, 0.05, np.nan],\n",
    "    [\"Tapete_auf_Kalkzementputz\",         np.nan, 0.02, 0.03, 0.04, 0.05, 0.07, 0.08, np.nan],\n",
    "    [\"Spiegel_vor_der_Wand\",              np.nan, 0.12, 0.10, 0.05, 0.04, 0.02, 0.02, np.nan],\n",
    "    [\"Tür_Holz_lackiert\",                 np.nan, 0.10, 0.08, 0.06, 0.05, 0.05, 0.05, np.nan],\n",
    "    [\"Stuckgips_unverputzter_Beton\",      np.nan, 0.02, 0.02, 0.03, 0.04, 0.05, 0.05, np.nan],\n",
    "    [\"Marmor_Fliesen_Klinker\",            np.nan, 0.01, 0.01, 0.02, 0.02, 0.03, 0.03, np.nan],\n",
    "    [\"Fenster_Isolierverglasung\",         np.nan, 0.28, 0.20, 0.11, 0.06, 0.03, 0.02, np.nan],\n",
    "    [\"Parkett_aufgeklebt\",                np.nan, 0.04, 0.04, 0.05, 0.06, 0.06, 0.06, np.nan],\n",
    "    [\"Parkett_Blindboden\",                np.nan, 0.20, 0.15, 0.10, 0.09, 0.06, 0.10, np.nan],\n",
    "    [\"Parkett_hohlliegend\",               np.nan, 0.15, 0.08, 0.07, 0.06, 0.06, 0.06, np.nan],\n",
    "    [\"Teppich_6mm\",                       np.nan, 0.02, 0.04, 0.07, 0.19, 0.29, 0.35, np.nan],\n",
    "    [\"Teppich_7_10mm\",                    np.nan, 0.04, 0.07, 0.14, 0.30, 0.51, 0.78, np.nan],\n",
    "    [\"Nadelfilz_7mm\",                     np.nan, 0.02, 0.04, 0.12, 0.20, 0.36, 0.57, np.nan],\n",
    "    [\"Teppich_5mm_Filz\",                  np.nan, 0.07, 0.21, 0.57, 0.68, 0.81, 0.72, np.nan],\n",
    "    [\"PVC_auf_Beton\",                     np.nan, 0.01, 0.02, 0.01, 0.03, 0.05, 0.05, np.nan],\n",
    "    [\"Linoleum_auf_Beton\",                np.nan, 0.02, 0.02, 0.03, 0.03, 0.04, 0.04, np.nan],\n",
    "    [\"Holz_Spanplatte_fest\",              np.nan, 0.04, 0.04, 0.05, 0.06, 0.06, 0.06, np.nan],\n",
    "    [\"HFPlatte_kassettiert_ohne_Dämmung\", np.nan, 0.22, 0.19, 0.13, 0.07, 0.05, 0.05, np.nan],\n",
    "    [\"HFPlatte_kass_mit_MWolle\",          np.nan, 0.63, 0.25, 0.14, 0.08, 0.06, 0.05, np.nan],\n",
    "    [\"HFPlatte_kass_ohne_Dämmung\",        np.nan, 0.26, 0.15, 0.07, 0.05, 0.05, 0.05, np.nan],\n",
    "    [\"Sperrholz_MWolle_120mm\",            np.nan, 0.77, 0.33, 0.16, 0.08, 0.07, 0.03, np.nan],\n",
    "    [\"Gipsplatte_25mm\",                   np.nan, 0.27, 0.17, 0.10, 0.09, 0.11, 0.12, np.nan],\n",
    "    [\"Gipsplatte_kassiert_60mm\",          np.nan, 0.30, 0.10, 0.05, 0.07, 0.09, 0.08, np.nan],\n",
    "    [\"Kino_Bildwand\",                     np.nan, 0.10, 0.13, 0.36, 0.31, 0.29, 0.20, np.nan],\n",
    "    [\"Buehnenoeffnung_Deko\",              np.nan, 0.40, 0.43, 0.57, 0.70, 0.80, 0.80, np.nan],\n",
    "    [\"Buecherregal_Bibliothek\",           np.nan, 0.30, 0.39, 0.39, 0.31, 0.29, 0.21, np.nan],\n",
    "    [\"Lochsteine\",                        np.nan, 0.10, 0.20, 0.44, 0.55, 0.44, 0.22, np.nan],\n",
    "    [\"HFPlatte_MWolle_Holzleisten\",       np.nan, 0.61, 0.26, 0.19, 0.07, 0.07, 0.03, np.nan],\n",
    "    [\"Mineralplatte_Vlies_200mm\",         np.nan, 0.50, 0.65, 0.70, 0.85, 1.00, 1.00, np.nan],\n",
    "    [\"Mineralplatte_fein_genadelt\",       np.nan, 0.35, 0.55, 0.65, 0.70, 0.65, 0.60, np.nan],\n",
    "    [\"Mineralplatte_ungenadelt\",          np.nan, 0.15, 0.15, 0.10, 0.15, 0.15, 0.10, np.nan],\n",
    "    [\"Metallkassette_gelocht_16p\",        np.nan, 0.35, 0.70, 0.85, 0.75, 0.75, 0.75, np.nan],\n",
    "    [\"Recycle_Glaswolle_mit_Tiefton\",     np.nan, 0.75, 0.95, 0.95, 1.00, 1.00, 1.00, np.nan],\n",
    "    [\"Recycle_Glaswolle_ohne_Zusatz\",     np.nan, 0.40, 0.85, 1.00, 0.90, 1.00, 1.00, np.nan],\n",
    "    [\"Spanndecke_ohne_Vlies\",             np.nan, 0.09, 0.25, 0.65, 0.80, 0.61, 0.60, np.nan],\n",
    "    [\"Spanndecke_mit_Vlies\",              np.nan, 0.28, 0.69, 1.00, 0.89, 0.75, 0.71, np.nan],\n",
    "    [\"Rasterdecke_8_18_ohne_MW\",          np.nan, 0.45, 0.60, 0.70, 0.60, 0.55, 0.65, np.nan],\n",
    "    [\"Rasterdecke_8_18_mit_MW\",           np.nan, 0.50, 0.65, 0.70, 0.65, 0.60, 0.70, np.nan],\n",
    "    [\"Rasterdecke_12_25_200mm\",           np.nan, 0.45, 0.50, 0.50, 0.40, 0.35, 0.35, np.nan],\n",
    "    [\"Rasterdecke_12_25_65mm\",            np.nan, 0.40, 0.45, 0.50, 0.45, 0.40, 0.30, np.nan],\n",
    "    [\"HWL_35mm\",                          np.nan, 0.08, 0.17, 0.70, 0.71, 0.64, 0.64, np.nan],\n",
    "    [\"HWL_25mm_Hohlraum\",                 np.nan, 0.13, 0.42, 0.54, 0.45, 0.70, 0.73, np.nan],\n",
    "    [\"Melamin_30mm\",                      np.nan, 0.12, 0.31, 0.66, 0.86, 0.87, 0.92, np.nan],\n",
    "    [\"Melamin_50mm\",                      np.nan, 0.16, 0.56, 0.87, 0.96, 0.97, 0.97, np.nan],\n",
    "    [\"MWMatte_ohne_Lochblech\",            np.nan, 0.11, 0.36, 0.68, 0.88, 0.89, 0.97, np.nan],\n",
    "    [\"MWMatte_mit_Lochblech\",             np.nan, 0.11, 0.36, 0.69, 0.95, 0.81, 0.70, np.nan],\n",
    "    [\"Gips_Rundlochung\",                  np.nan, 0.12, 0.28, 0.75, 0.50, 0.38, 0.30, np.nan],\n",
    "    [\"Gips_geschlitzt\",                   np.nan, 0.11, 0.28, 0.66, 0.38, 0.28, 0.30, np.nan],\n",
    "    [\"Metallkassette_20p_Akustikfilz\",    np.nan, 0.38, 0.65, 0.59, 0.75, 0.77, 0.61, np.nan],\n",
    "]\n",
    "\n",
    "with open(\"materials.csv\", mode=\"w\", newline='', encoding=\"utf-8\") as file:\n",
    "    writer = csv.writer(file)\n",
    "    writer.writerow(header)\n",
    "    writer.writerows(materials)\n"
   ]
  }
 ],
 "metadata": {
  "kernelspec": {
   "display_name": "Python 3.11.5 64-bit ('base': conda)",
   "name": "python3115jvsc74a57bd0affcaff9f6bf79b00989f8b6228f87b482b25a63051a05418927146e846e8e7a"
  },
  "language_info": {
   "codemirror_mode": {
    "name": "ipython",
    "version": 3
   },
   "file_extension": ".py",
   "mimetype": "text/x-python",
   "name": "python",
   "nbconvert_exporter": "python",
   "pygments_lexer": "ipython3",
   "version": "3.11.5"
  },
  "orig_nbformat": 2
 },
 "nbformat": 4,
 "nbformat_minor": 2
}