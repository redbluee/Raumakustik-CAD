{
 "cells": [
  {
   "cell_type": "code",
   "execution_count": 1,
   "id": "1622a093",
   "metadata": {},
   "outputs": [
    {
     "name": "stdout",
     "output_type": "stream",
     "text": [
      "Nachhallzeit (ohne Luftdämpfung):\n",
      "[       inf 2.68573196 2.68573196 4.02859795 2.01429897 1.61143918\n",
      " 1.61143918        inf]\n",
      "Nachhallzeit (mit Luftdämpfung):\n",
      "[1.43185230e+03 2.66776004e+00 2.63290855e+00 3.79096372e+00\n",
      " 1.91184182e+00 1.47720599e+00 1.26620752e+00 1.66521124e+00]\n",
      "Anforderungsbereiche nach DIN 18041:\n",
      "obere Grenznachhallzeiten: [0 0 0 0 0 0 0 0]\n",
      "untere Grenznachhallzeiten: [0 0 0 0 0 0 0 0]\n"
     ]
    },
    {
     "name": "stderr",
     "output_type": "stream",
     "text": [
      "c:\\Users\\moinm\\OneDrive\\TUB\\Semester 4\\Python und Akustik\\Git Repo\\Raumakustik-CAD\\reverberation_calc.py:365: RuntimeWarning: divide by zero encountered in divide\n",
      "  self.reverberation_time = (55.3 * self.volume) / (self.Aeq * self.c)\n",
      "c:\\Users\\moinm\\OneDrive\\TUB\\Semester 4\\Python und Akustik\\Git Repo\\Raumakustik-CAD\\reverberation_calc.py:461: UserWarning: According to DIN 18041, there are no requirements for type B1.\n",
      "  warnings.warn(\"According to DIN 18041, there are no requirements for type B1.\")\n"
     ]
    }
   ],
   "source": [
    "from reverberation_calc import room, airDamp, material, surface, reverberationTime, DIN_18041_limits\n",
    "import numpy as np\n",
    "\n",
    "# Definition der berechneten Frequenzen\n",
    "frequencies = (63, 125, 250, 500, 1000, 2000, 4000, 8000)  # Frequencies in Hz\n",
    "\n",
    "# Definition eines Raumes\n",
    "room = room(1000) # Initialisierung eines Raum-Objekts mit einem Volumen von 1000 m³\n",
    "# optional Einstellung weiterer Raumparameter\n",
    "room.set_temperature(20)\n",
    "room.set_rel_humidity(50)\n",
    "room.set_pressure(101.325)\n",
    "room.set_height(5)\n",
    "\n",
    "# Definition von Materialien (sind mehr als gebraucht werden aber hier nur als Beispiel für die Syntax bzw. Datenbankeinbindung)\n",
    "material1 = material(\"Kalkzementputz\", (0,.03,0.03,0.02,0.04,0.05,0.05,0))\n",
    "material2 = material(\"Teppich\", (0,0.02,0.04,0.07,0.19,0.29,0.35,0))\n",
    "material3 = material(\"Isolierverglasung\", (0,0.28,0.20,0.11,0.06,0.03,0.02,0))\n",
    "material4 = material(\"HFPlatte_3_5\", (0,0.61,0.26,0.19,0.07,0.07,0.03,0))\n",
    "material5 = material(\"HFPlatte_4\", (0,0.63,0.25,0.14,0.08,0.06,0.05,0))\n",
    "material6 = material(\"GlaWo_Mikroperf\", (0,0.75,0.95,0.95,1.00,1.00,1.00,0))\n",
    "material7 = material(\"MetKassette_20\", (0,0.38,0.65,0.59,0.75,0.77,0.61,0))\n",
    "material8 = material(\"GK_Schlitz_8_8_Vlies\", (0,0.11,0.28,0.66,0.38,0.28,0.30,0))\n",
    "\n",
    "# Definition von zwei Beispieloberflächen\n",
    "surface1 = surface(\"Wand1\", 2000, material1)\n",
    "surface2 = surface(\"Boden\", 1, material1)\n",
    "\n",
    "# Berechnung der Nachhallzeit aus dem Raum, den Flächen und den Frequenzen. Mit air_damp_calc wird eingestellt, ob die Luftdämpfung berücksichtigt wird.\n",
    "reverberationTime_f = reverberationTime(room, [surface1,surface2], frequencies, air_damp_calc=False)\n",
    "reverberationTime_t = reverberationTime(room, [surface1,surface2], frequencies, air_damp_calc=True)\n",
    "\n",
    "# Ausgabe der Ergebnisse\n",
    "print(\"Nachhallzeit (ohne Luftdämpfung):\")\n",
    "print(reverberationTime_f.reverberation_time)\n",
    "print(\"Nachhallzeit (mit Luftdämpfung):\")\n",
    "print(reverberationTime_t.reverberation_time)\n",
    "\n",
    "\n",
    "# Berechnung und Ausgabe der Anforderungsbereiche\n",
    "print(\"Anforderungsbereiche nach DIN 18041:\")\n",
    "limits = DIN_18041_limits(room, \"B1\")\n",
    "\n",
    "print(\"obere Grenznachhallzeiten: \" + str(limits.T_upper_limit))\n",
    "print(\"untere Grenznachhallzeiten: \" + str(limits.T_lower_limit))\n"
   ]
  }
 ],
 "metadata": {
  "kernelspec": {
   "display_name": ".venv",
   "language": "python",
   "name": "python3"
  },
  "language_info": {
   "codemirror_mode": {
    "name": "ipython",
    "version": 3
   },
   "file_extension": ".py",
   "mimetype": "text/x-python",
   "name": "python",
   "nbconvert_exporter": "python",
   "pygments_lexer": "ipython3",
   "version": "3.13.2"
  }
 },
 "nbformat": 4,
 "nbformat_minor": 5
}
