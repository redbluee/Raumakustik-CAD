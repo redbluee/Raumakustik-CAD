{
 "cells": [
  {
   "cell_type": "code",
   "execution_count": null,
   "id": "1622a093",
   "metadata": {},
   "outputs": [
    {
     "name": "stdout",
     "output_type": "stream",
     "text": [
      "Nachhallzeit (ohne Luftdämpfung):\n",
      "[       nan 2.68148879 2.68059555 4.01654497 2.00702029 1.60477572\n",
      " 1.60381621        nan]\n",
      "Nachhallzeit (mit Luftdämpfung):\n",
      "[       nan 2.66354229 2.62788177 3.77989993 1.90511463 1.47139091\n",
      " 1.26102533        nan]\n",
      "Nachhallzeit (mit Messwerten):\n",
      "[       nan 2.09945212 1.99900635 1.99826177 1.99528895 1.94317234\n",
      " 1.8921817         nan]\n",
      "Anforderungsbereiche nach DIN 18041:\n",
      "obere Grenznachhallzeiten: [5.525  4.7125 3.9    3.9    3.9    3.9    3.9    3.9   ]\n",
      "untere Grenznachhallzeiten: [1.625  2.1125 2.6    2.6    2.6    2.6    2.1125 1.625 ]\n"
     ]
    }
   ],
   "source": [
    "from reverberation_calc import room, air_damp, material, surface, reverberation_time, DIN_18041_limits\n",
    "import numpy as np\n",
    "\n",
    "# Definition eines Raumes\n",
    "room = room(1000) # Initialisierung eines Raum-Objekts mit einem Volumen von 1000 m³\n",
    "# optional Einstellung weiterer Raumparameter\n",
    "room.set_temperature(20)\n",
    "room.set_rel_humidity(50)\n",
    "room.set_pressure(101.325)\n",
    "room.set_height(5)\n",
    "\n",
    "# Definition von Materialien (sind mehr als gebraucht werden aber hier nur als Beispiel für die Syntax bzw. Datenbankeinbindung)\n",
    "material1 = material(\"Kalkzementputz\", [np.nan,0.03,0.03,0.02,0.04,0.05,0.05,np.nan])\n",
    "material2 = material(\"Teppich\", [np.nan,0.02,0.04,0.07,0.19,0.29,0.35,np.nan])\n",
    "material3 = material(\"Isolierverglasung\", [np.nan,0.28,0.20,0.11,0.06,0.03,0.02,np.nan])\n",
    "material4 = material(\"HFPlatte_3_5\", [np.nan,0.61,0.26,0.19,0.07,0.07,0.03,np.nan])\n",
    "material5 = material(\"HFPlatte_4\", [np.nan,0.63,0.25,0.14,0.08,0.06,0.05,np.nan])\n",
    "material6 = material(\"GlaWo_Mikroperf\", [np.nan,0.75,0.95,0.95,1.00,1.00,1.00,np.nan])\n",
    "material7 = material(\"MetKassette_20\", [np.nan,0.38,0.65,0.59,0.75,0.77,0.61,np.nan])\n",
    "material8 = material(\"GK_Schlitz_8_8_Vlies\", [np.nan,0.11,0.28,0.66,0.38,0.28,0.30,np.nan])\n",
    "\n",
    "# Definition von zwei Beispieloberflächen\n",
    "surface1 = surface(\"Wand1\", 2000, material1)\n",
    "surface2 = surface(\"Boden\", 1, material2)\n",
    "\n",
    "# Berechnung der Nachhallzeit aus dem Raum, den Flächen und den Frequenzen. Mit air_damp_calc wird eingestellt, ob die Luftdämpfung berücksichtigt wird.\n",
    "reverberation_time_f = reverberation_time(room, [surface1,surface2], air_damp_calc=False)\n",
    "reverberation_time_t = reverberation_time(room, [surface1,surface2], air_damp_calc=True)\n",
    "\n",
    "# Beispielhafte Berechnung der Nachhallzeit mit Messergebnissen\n",
    "measured_times = [2.2, 2.1, 2, 2, 2, 1.95, 1.9, 1.8]  # Beispielhafte Messwerte in Sekunden\n",
    "reverberation_time_m = reverberation_time(room, [surface2], air_damp_calc=True, meas_reverberation_time=measured_times)\n",
    "\n",
    "# Ausgabe der Ergebnisse\n",
    "print(\"Nachhallzeit (ohne Luftdämpfung):\")\n",
    "print(reverberation_time_f.reverberation_time)\n",
    "print(\"Nachhallzeit (mit Luftdämpfung):\")\n",
    "print(reverberation_time_t.reverberation_time)\n",
    "print(\"Nachhallzeit (mit Messwerten):\")\n",
    "print(reverberation_time_m.reverberation_time)\n",
    "\n",
    "\n",
    "# Berechnung und Ausgabe der Anforderungsbereiche\n",
    "print(\"Anforderungsbereiche nach DIN 18041:\")\n",
    "limits = DIN_18041_limits(room, \"A5\")\n",
    "\n",
    "print(\"obere Grenznachhallzeiten: \" + str(limits.T_upper_limit))\n",
    "print(\"untere Grenznachhallzeiten: \" + str(limits.T_lower_limit))\n"
   ]
  }
 ],
 "metadata": {
  "kernelspec": {
   "display_name": ".venv",
   "language": "python",
   "name": "python3"
  },
  "language_info": {
   "codemirror_mode": {
    "name": "ipython",
    "version": 3
   },
   "file_extension": ".py",
   "mimetype": "text/x-python",
   "name": "python",
   "nbconvert_exporter": "python",
   "pygments_lexer": "ipython3",
   "version": "3.11.9"
  }
 },
 "nbformat": 4,
 "nbformat_minor": 5
}
