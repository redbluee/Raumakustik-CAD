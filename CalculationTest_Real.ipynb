{
 "cells": [
  {
   "cell_type": "code",
   "execution_count": null,
   "id": "1622a093",
   "metadata": {},
   "outputs": [
    {
     "name": "stdout",
     "output_type": "stream",
     "text": [
      "Nachhallzeit (ohne Luftdämpfung):\n",
      "[0.13 1.7  1.58 1.17 0.98 0.82 0.77 0.13]\n",
      "Nachhallzeit (mit Luftdämpfung):\n",
      "[0.13 1.7  1.56 1.15 0.95 0.79 0.68 0.12]\n",
      "Anforderungsbereiche nach DIN 18041:\n",
      "obere Grenznachhallzeiten: [1.3  1.11 0.92 0.92 0.92 0.92 0.92 0.92]\n",
      "untere Grenznachhallzeiten: [0.38 0.5  0.61 0.61 0.61 0.61 0.5  0.38]\n"
     ]
    }
   ],
   "source": [
    "from reverberation_calc import room, air_damp, material, surface, reverberation_time, DIN_18041_limits\n",
    "import numpy as np\n",
    "\n",
    "# Definition eines Raumes\n",
    "room = room(2.8*4.6*2.75) # Initialisierung eines Raum-Objekts mit einem Volumen von 1000 m³\n",
    "# optional Einstellung weiterer Raumparameter\n",
    "room.set_temperature(20)\n",
    "room.set_rel_humidity(50)\n",
    "room.set_pressure(101.325)\n",
    "room.set_height(2.75)\n",
    "\n",
    "# Definition von Materialien (sind mehr als gebraucht werden aber hier nur als Beispiel für die Syntax bzw. Datenbankeinbindung)\n",
    "material10 = material(\"Tapete\", (1,0.02,0.03,0.04,0.05,0.07,0.08,1))\n",
    "material11 = material(\"Isolierverglasung\", (0,0.28,0.20,0.11,0.06,0.03,0.02,0))\n",
    "material12 = material(\"Laminat\", (0,0.04,0.04,0.05,0.06,0.06,0.06,0))\n",
    "material13 = material(\"Tür\", (0,0.10,0.08,0.06,0.05,0.05,0.05,0))\n",
    "material14 = material(\"Vorhang\", (0,0.06,0.12,0.18,0.25,0.30,0.35,0))\n",
    "material15 = material(\"Sofa\", (0,0.2,0.25,0.6,0.8,0.9,0.95,0))\n",
    "material16 = material(\"Holz\", (0,0.08,0.06,0.04,0.03,0.02,0.01,0))\n",
    "\n",
    "# Definition von zwei Beispieloberflächen\n",
    "S1 = surface(\"Wand\", (2*4.6*2.7)+(2*2.8*2.75)-((0.9*2.15)+(1.4*1.6)+1.2*2+2*0.5), material10)\n",
    "S2 = surface(\"Fenster\", (1.4*1.6), material11)\n",
    "S3 = surface(\"Tür\", (0.9*2.15), material13)\n",
    "S4 = surface(\"Schrank\", (1.2*2+2*0.5+0.5*1.2), material16)\n",
    "S5 = surface(\"Tisch\", (2*1.6*0.8), material16)\n",
    "S6 = surface(\"Boden\", ((4.6*2.8)-(0.5*1.2)), material12)\n",
    "S7 = surface(\"Decke\", (4.6*2.8), material10)\n",
    "S8 = surface(\"Sofa so good\", 3, material15)\n",
    "# S9 = surface(\"Wand6\", 2000, material6)\n",
    "# S10 = surface(\"Wand7\", 2000, material7)\n",
    "# S11 = surface(\"Wand8\", 2000, material8)\n",
    "# S12 = surface(\"Wand9\", 2000, material10)\n",
    "\n",
    "Flächen = [S1, S2, S3, S4, S5, S6, S7, S8]\n",
    "\n",
    "# Berechnung der Nachhallzeit aus dem Raum, den Flächen und den Frequenzen. Mit air_damp_calc wird eingestellt, ob die Luftdämpfung berücksichtigt wird.\n",
    "reverberation_time_f = reverberation_time(room, Flächen, air_damp_calc=False)\n",
    "reverberation_time_t = reverberation_time(room, Flächen, air_damp_calc=True)\n",
    "\n",
    "# Beispielhafte Berechnung der Nachhallzeit mit Messergebnissen\n",
    "# measured_times = np.array([2.2, 2.1, 2, 2, 2, 1.95, 1.9, 1.8])  # Beispielhafte Messwerte in Sekunden\n",
    "# reverberation_time_m = reverberation_time(room, [surface2], frequencies, air_damp_calc=True, meas_reverberation_time=measured_times)\n",
    "\n",
    "# Ausgabe der Ergebnisse\n",
    "print(\"Nachhallzeit (ohne Luftdämpfung):\")\n",
    "print(np.round(reverberation_time_f.reverberation_time,2))\n",
    "print(\"Nachhallzeit (mit Luftdämpfung):\")\n",
    "print(np.round(reverberation_time_t.reverberation_time,2))\n",
    "# print(\"Nachhallzeit (mit Messwerten):\")\n",
    "# print(reverberation_time_m.reverberation_time)\n",
    "\n",
    "\n",
    "# Berechnung und Ausgabe der Anforderungsbereiche\n",
    "print(\"Anforderungsbereiche nach DIN 18041:\")\n",
    "limits = DIN_18041_limits(room, \"A1\")\n",
    "\n",
    "print(\"obere Grenznachhallzeiten: \" + str(np.round(limits.T_upper_limit,2)))\n",
    "print(\"untere Grenznachhallzeiten: \" + str(np.round(limits.T_lower_limit,2)))\n"
   ]
  }
 ],
 "metadata": {
  "kernelspec": {
   "display_name": ".venv",
   "language": "python",
   "name": "python3"
  },
  "language_info": {
   "codemirror_mode": {
    "name": "ipython",
    "version": 3
   },
   "file_extension": ".py",
   "mimetype": "text/x-python",
   "name": "python",
   "nbconvert_exporter": "python",
   "pygments_lexer": "ipython3",
   "version": "3.11.9"
  }
 },
 "nbformat": 4,
 "nbformat_minor": 5
}
